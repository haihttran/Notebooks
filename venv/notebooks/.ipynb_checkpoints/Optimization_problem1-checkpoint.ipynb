{
 "cells": [
  {
   "cell_type": "code",
   "execution_count": 5,
   "id": "42a507c2",
   "metadata": {},
   "outputs": [],
   "source": [
    "import pulp as p"
   ]
  },
  {
   "cell_type": "code",
   "execution_count": 7,
   "id": "c1f570f1",
   "metadata": {},
   "outputs": [
    {
     "name": "stdout",
     "output_type": "stream",
     "text": [
      "Problem:\n",
      "MAXIMIZE\n",
      "1*x + 1*y + -50\n",
      "SUBJECT TO\n",
      "_C1: 50 x + 24 y <= 2400\n",
      "\n",
      "_C2: 30 x + 33 y <= 2100\n",
      "\n",
      "_C3: x >= 45\n",
      "\n",
      "_C4: y >= 5\n",
      "\n",
      "VARIABLES\n",
      "45 <= x Continuous\n",
      "5 <= y Continuous\n",
      "\n",
      "Optimal\n",
      "45.0 6.25 1.25\n"
     ]
    }
   ],
   "source": [
    "#Declaration of two variables x and y of the optimization proble\n",
    "Lp_prob = p.LpProblem('Problem', p.LpMaximize) \n",
    "x = p.LpVariable(\"x\", lowBound = 45)\n",
    "y = p.LpVariable(\"y\", lowBound = 5)\n",
    "\n",
    "#Objective function\n",
    "Lp_prob += x + y - 50\n",
    "\n",
    "#Constraints\n",
    "Lp_prob += 50*x + 24*y <= 2400\n",
    "Lp_prob += 30*x + 33*y <= 2100\n",
    "Lp_prob += x >= 45\n",
    "Lp_prob += y >= 5\n",
    "\n",
    "# Display the problem\n",
    "print(Lp_prob)\n",
    "  \n",
    "status = Lp_prob.solve()   # Solver\n",
    "print(p.LpStatus[status])   # The solution status\n",
    "  \n",
    "# Printing the final solution\n",
    "print(p.value(x), p.value(y), p.value(Lp_prob.objective))"
   ]
  }
 ],
 "metadata": {
  "kernelspec": {
   "display_name": "Python 3 (ipykernel)",
   "language": "python",
   "name": "python3"
  },
  "language_info": {
   "codemirror_mode": {
    "name": "ipython",
    "version": 3
   },
   "file_extension": ".py",
   "mimetype": "text/x-python",
   "name": "python",
   "nbconvert_exporter": "python",
   "pygments_lexer": "ipython3",
   "version": "3.10.0"
  }
 },
 "nbformat": 4,
 "nbformat_minor": 5
}
