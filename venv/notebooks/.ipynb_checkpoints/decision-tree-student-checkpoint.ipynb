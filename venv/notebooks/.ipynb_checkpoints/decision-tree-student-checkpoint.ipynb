{
 "cells": [
  {
   "cell_type": "code",
   "execution_count": 2,
   "id": "083a65fc",
   "metadata": {},
   "outputs": [],
   "source": [
    "import pandas as pd\n",
    "from sklearn import ensemble\n",
    "from sklearn import tree\n",
    "from sklearn.tree import DecisionTreeClassifier\n",
    "import matplotlib.pyplot as plt\n",
    "from sklearn.model_selection import KFold, cross_val_score, ShuffleSplit\n",
    "from sklearn.ensemble import RandomForestClassifier\n",
    "\n",
    "df = pd.read_csv('./data/student-data.csv')\n",
    "df2 = df2 = df.apply(lambda x: pd.factorize(x)[0])"
   ]
  },
  {
   "cell_type": "code",
   "execution_count": 3,
   "id": "e22cc3c9",
   "metadata": {},
   "outputs": [
    {
     "name": "stdout",
     "output_type": "stream",
     "text": [
      "     school  sex  age  address  famsize  Pstatus  Medu  Fedu  Mjob  Fjob  ...  \\\n",
      "0         0    0    0        0        0        0     0     0     0     0  ...   \n",
      "1         0    0    1        0        0        1     1     1     0     1  ...   \n",
      "2         0    0    2        0        1        1     1     1     0     1  ...   \n",
      "3         0    0    2        0        0        1     0     2     1     2  ...   \n",
      "4         0    0    3        0        0        1     2     3     2     1  ...   \n",
      "..      ...  ...  ...      ...      ...      ...   ...   ...   ...   ...  ...   \n",
      "390       1    1    6        0        1        0     3     2     3     2  ...   \n",
      "391       1    1    1        0        1        1     2     1     3     2  ...   \n",
      "392       1    1    7        1        0        1     1     1     2     1  ...   \n",
      "393       1    1    0        1        1        1     2     2     3     1  ...   \n",
      "394       1    1    4        0        1        1     1     1     2     4  ...   \n",
      "\n",
      "     internet  romantic  famrel  freetime  goout  Dalc  Walc  health  \\\n",
      "0           0         0       0         0      0     0     0       0   \n",
      "1           1         0       1         0      1     0     0       0   \n",
      "2           1         0       0         0      2     1     1       0   \n",
      "3           1         1       2         1      2     0     0       1   \n",
      "4           0         0       0         0      2     0     2       1   \n",
      "..        ...       ...     ...       ...    ...   ...   ...     ...   \n",
      "390         0         0       1         4      0     4     4       4   \n",
      "391         1         0       4         2      4     3     3       3   \n",
      "392         0         0       1         4      1     3     1       0   \n",
      "393         1         0       0         2      3     3     3       1   \n",
      "394         1         0       2         1      1     3     1       1   \n",
      "\n",
      "     absences  passed  \n",
      "0           0       0  \n",
      "1           1       0  \n",
      "2           2       1  \n",
      "3           3       1  \n",
      "4           1       1  \n",
      "..        ...     ...  \n",
      "390        29       0  \n",
      "391        22       1  \n",
      "392        22       0  \n",
      "393         4       1  \n",
      "394        18       0  \n",
      "\n",
      "[395 rows x 31 columns]\n"
     ]
    }
   ],
   "source": [
    "print(df2)"
   ]
  },
  {
   "cell_type": "code",
   "execution_count": 4,
   "id": "24b5dd0d",
   "metadata": {},
   "outputs": [],
   "source": [
    "X = df2.iloc[:,:-1]\n",
    "y = df2['passed']"
   ]
  },
  {
   "cell_type": "code",
   "execution_count": 5,
   "id": "dd91e321",
   "metadata": {},
   "outputs": [],
   "source": [
    "clf = DecisionTreeClassifier(random_state=42)\n",
    "cv = ShuffleSplit(n_splits=5, test_size=0.3, random_state=0)\n",
    "scores = cross_val_score(clf, X, y, cv = cv)"
   ]
  },
  {
   "cell_type": "code",
   "execution_count": 6,
   "id": "5b15e819",
   "metadata": {},
   "outputs": [
    {
     "name": "stdout",
     "output_type": "stream",
     "text": [
      "Cross Validation Scores:  [0.61344538 0.56302521 0.64705882 0.62184874 0.52941176]\n",
      "Average CV Score:  0.5949579831932773\n",
      "Number of CV Scores used in Average:  5\n"
     ]
    }
   ],
   "source": [
    "print(\"Cross Validation Scores: \", scores)\n",
    "print(\"Average CV Score: \", scores.mean())\n",
    "print(\"Number of CV Scores used in Average: \", len(scores))"
   ]
  },
  {
   "cell_type": "code",
   "execution_count": 7,
   "id": "51575806",
   "metadata": {},
   "outputs": [],
   "source": [
    "clf2 = RandomForestClassifier(n_estimators = 100)\n",
    "scores2 = cross_val_score(clf2, X, y, cv = cv)"
   ]
  },
  {
   "cell_type": "code",
   "execution_count": 9,
   "id": "c8bbbdd6",
   "metadata": {},
   "outputs": [
    {
     "name": "stdout",
     "output_type": "stream",
     "text": [
      "Cross Validation Scores:  [0.61344538 0.68907563 0.70588235 0.67226891 0.66386555]\n",
      "Average CV Score:  0.6689075630252102\n",
      "Number of CV Scores used in Average:  5\n"
     ]
    }
   ],
   "source": [
    "print(\"Cross Validation Scores: \", scores2)\n",
    "print(\"Average CV Score: \", scores2.mean())\n",
    "print(\"Number of CV Scores used in Average: \", len(scores2))"
   ]
  },
  {
   "cell_type": "code",
   "execution_count": null,
   "id": "002bc1f5",
   "metadata": {},
   "outputs": [],
   "source": [
    "xgb_cls = xgb.XGBClassifier(objective=\"binary:logistic\", random_state=42)"
   ]
  }
 ],
 "metadata": {
  "kernelspec": {
   "display_name": "Python 3 (ipykernel)",
   "language": "python",
   "name": "python3"
  },
  "language_info": {
   "codemirror_mode": {
    "name": "ipython",
    "version": 3
   },
   "file_extension": ".py",
   "mimetype": "text/x-python",
   "name": "python",
   "nbconvert_exporter": "python",
   "pygments_lexer": "ipython3",
   "version": "3.10.0"
  }
 },
 "nbformat": 4,
 "nbformat_minor": 5
}
